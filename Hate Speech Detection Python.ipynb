{
 "cells": [
  {
   "cell_type": "markdown",
   "id": "ea70af0a",
   "metadata": {},
   "source": [
    "# Hate Speech Detection with Machine Learning"
   ]
  },
  {
   "cell_type": "markdown",
   "id": "ab63bbc0",
   "metadata": {},
   "source": [
    "* Hate speech is one of the serious issues we see on social media platforms like Twitter and Facebook daily. \n",
    "* Most of the posts containing hate speech can be found in the accounts of people with political views. \n",
    "* So, if you want to learn how to train a hate speech detection model with machine learning, this article is for you."
   ]
  },
  {
   "cell_type": "markdown",
   "id": "a54a6d95",
   "metadata": {},
   "source": [
    "* There is no legal definition of hate speech because people’s opinions cannot easily be classified as hateful or offensive. \n",
    "* Nevertheless, the United Nations defines hate speech as any type of verbal, written or behavioural communication that can attack or use discriminatory language regarding a person or a group of people based on their identity based on religion, ethnicity, nationality, race, colour, ancestry, gender or any other identity factor."
   ]
  },
  {
   "cell_type": "markdown",
   "id": "c78341ec",
   "metadata": {},
   "source": [
    "* Hope you now have understood what hate speech is. \n",
    "* Social media platforms need to detect hate speech and prevent it from going viral or ban it at the right time. \n",
    "* So in the section below, I have build a Hate speech detection with machine learning using the Python programming language."
   ]
  },
  {
   "cell_type": "markdown",
   "id": "ff01391f",
   "metadata": {},
   "source": [
    "### Dataset\n",
    "\n",
    "* The dataset here used for hate speech detection task is downloaded from Kaggle. \n",
    "* This Dataset can be download from the given link :- https://raw.githubusercontent.com/amankharwal/Website-data/master/twitter.csv\n",
    "* This dataset was originally collected from Twitter and contains the following columns:\n",
    "\n",
    "1. Index\n",
    "2. Count\n",
    "3. Hate_speech\n",
    "4. Offensive_language\n",
    "5. Neither \n",
    "6. Class\n",
    "7. Tweet "
   ]
  },
  {
   "cell_type": "markdown",
   "id": "79a54061",
   "metadata": {},
   "source": [
    "* Reference :- I have taken reference from this article https://thecleverprogrammer.com/2021/07/25/hate-speech-detection-with-machine-learning/\n",
    "* I would like to thank for providing & sharing knowledge with us."
   ]
  },
  {
   "cell_type": "markdown",
   "id": "e6d0f532",
   "metadata": {},
   "source": [
    "###############################################################################################################################"
   ]
  },
  {
   "cell_type": "code",
   "execution_count": 1,
   "id": "b864b248",
   "metadata": {},
   "outputs": [],
   "source": [
    "from nltk.util import pr\n",
    "import pandas as pd\n",
    "import numpy as np\n",
    "from sklearn.feature_extraction.text import CountVectorizer\n",
    "from sklearn.model_selection import train_test_split\n",
    "from sklearn.tree import DecisionTreeClassifier\n",
    "from sklearn.ensemble import RandomForestClassifier\n",
    "import re\n",
    "import nltk\n",
    "stemmer = nltk.SnowballStemmer(\"english\")\n",
    "from nltk.corpus import stopwords\n",
    "import string\n",
    "stopword=set(stopwords.words('english'))"
   ]
  },
  {
   "cell_type": "markdown",
   "id": "e3ccc211",
   "metadata": {},
   "source": [
    "* In the above line of code, I have imported all the required libraries."
   ]
  },
  {
   "cell_type": "code",
   "execution_count": 2,
   "id": "38ee10b4",
   "metadata": {},
   "outputs": [
    {
     "name": "stdout",
     "output_type": "stream",
     "text": [
      "   Unnamed: 0  count  hate_speech  offensive_language  neither  class  \\\n",
      "0           0      3            0                   0        3      2   \n",
      "1           1      3            0                   3        0      1   \n",
      "2           2      3            0                   3        0      1   \n",
      "3           3      3            0                   2        1      1   \n",
      "4           4      6            0                   6        0      1   \n",
      "\n",
      "                                               tweet  \n",
      "0  !!! RT @mayasolovely: As a woman you shouldn't...  \n",
      "1  !!!!! RT @mleew17: boy dats cold...tyga dwn ba...  \n",
      "2  !!!!!!! RT @UrKindOfBrand Dawg!!!! RT @80sbaby...  \n",
      "3  !!!!!!!!! RT @C_G_Anderson: @viva_based she lo...  \n",
      "4  !!!!!!!!!!!!! RT @ShenikaRoberts: The shit you...  \n"
     ]
    }
   ],
   "source": [
    "data = pd.read_csv(\"twitter.csv\")             # Import the dataset which is in csv file format\n",
    "print(data.head())"
   ]
  },
  {
   "cell_type": "markdown",
   "id": "1c90602c",
   "metadata": {},
   "source": [
    "* Printing top 5 rows from the dataset"
   ]
  },
  {
   "cell_type": "markdown",
   "id": "1cfbf808",
   "metadata": {},
   "source": [
    "### Now let's add a new column to this dataset as labels which will contain the values as:\n",
    "\n",
    "1. Hate Speech \n",
    "2. Offensive Language \n",
    "3. No Hate and Offensive"
   ]
  },
  {
   "cell_type": "code",
   "execution_count": 3,
   "id": "54266c89",
   "metadata": {},
   "outputs": [],
   "source": [
    "data[\"labels\"] = data[\"class\"].map({0: \"Hate Speech\", \n",
    "                                    1: \"Offensive Language\", \n",
    "                                    2: \"No Hate and Offensive\"})"
   ]
  },
  {
   "cell_type": "code",
   "execution_count": 4,
   "id": "704a07a0",
   "metadata": {},
   "outputs": [
    {
     "name": "stdout",
     "output_type": "stream",
     "text": [
      "   Unnamed: 0  count  hate_speech  offensive_language  neither  class  \\\n",
      "0           0      3            0                   0        3      2   \n",
      "1           1      3            0                   3        0      1   \n",
      "2           2      3            0                   3        0      1   \n",
      "3           3      3            0                   2        1      1   \n",
      "4           4      6            0                   6        0      1   \n",
      "\n",
      "                                               tweet                 labels  \n",
      "0  !!! RT @mayasolovely: As a woman you shouldn't...  No Hate and Offensive  \n",
      "1  !!!!! RT @mleew17: boy dats cold...tyga dwn ba...     Offensive Language  \n",
      "2  !!!!!!! RT @UrKindOfBrand Dawg!!!! RT @80sbaby...     Offensive Language  \n",
      "3  !!!!!!!!! RT @C_G_Anderson: @viva_based she lo...     Offensive Language  \n",
      "4  !!!!!!!!!!!!! RT @ShenikaRoberts: The shit you...     Offensive Language  \n"
     ]
    }
   ],
   "source": [
    "print(data.head())"
   ]
  },
  {
   "cell_type": "markdown",
   "id": "9d281a74",
   "metadata": {},
   "source": [
    "* Now lets select only tweet and labels columns for the rest of the task of training a hate speech detection model.\n",
    "* Because other columns are irrelevent , so no need to go further with them."
   ]
  },
  {
   "cell_type": "code",
   "execution_count": 5,
   "id": "5c0d29a7",
   "metadata": {},
   "outputs": [
    {
     "name": "stdout",
     "output_type": "stream",
     "text": [
      "                                               tweet                 labels\n",
      "0  !!! RT @mayasolovely: As a woman you shouldn't...  No Hate and Offensive\n",
      "1  !!!!! RT @mleew17: boy dats cold...tyga dwn ba...     Offensive Language\n",
      "2  !!!!!!! RT @UrKindOfBrand Dawg!!!! RT @80sbaby...     Offensive Language\n",
      "3  !!!!!!!!! RT @C_G_Anderson: @viva_based she lo...     Offensive Language\n",
      "4  !!!!!!!!!!!!! RT @ShenikaRoberts: The shit you...     Offensive Language\n"
     ]
    }
   ],
   "source": [
    "data = data[[\"tweet\", \"labels\"]]\n",
    "\n",
    "print(data.head())"
   ]
  },
  {
   "cell_type": "markdown",
   "id": "8e24e8e0",
   "metadata": {},
   "source": [
    "* Now , lets clean our Data.\n",
    "* Here we have used a Function to clean the texts in the tweet column.\n",
    "\n",
    "* Also we will remove all the full stops, or exclamation marks from the text dataset because these all are not required for doing sentiment analysis."
   ]
  },
  {
   "cell_type": "code",
   "execution_count": 6,
   "id": "f8f68709",
   "metadata": {},
   "outputs": [],
   "source": [
    "def clean(text):\n",
    "    text = str(text).lower()\n",
    "    text = re.sub('\\[.*?\\]', '', text)\n",
    "    text = re.sub('https?://\\S+|www\\.\\S+', '', text)\n",
    "    text = re.sub('<.*?>+', '', text)\n",
    "    text = re.sub('[%s]' % re.escape(string.punctuation), '', text)\n",
    "    text = re.sub('\\n', '', text)\n",
    "    text = re.sub('\\w*\\d\\w*', '', text)\n",
    "    text = [word for word in text.split(' ') if word not in stopword]\n",
    "    text=\" \".join(text)\n",
    "    text = [stemmer.stem(word) for word in text.split(' ')]\n",
    "    text=\" \".join(text)\n",
    "    return text\n",
    "\n",
    "data[\"tweet\"] = data[\"tweet\"].apply(clean)"
   ]
  },
  {
   "cell_type": "code",
   "execution_count": 7,
   "id": "56157d55",
   "metadata": {},
   "outputs": [
    {
     "data": {
      "text/html": [
       "<div>\n",
       "<style scoped>\n",
       "    .dataframe tbody tr th:only-of-type {\n",
       "        vertical-align: middle;\n",
       "    }\n",
       "\n",
       "    .dataframe tbody tr th {\n",
       "        vertical-align: top;\n",
       "    }\n",
       "\n",
       "    .dataframe thead th {\n",
       "        text-align: right;\n",
       "    }\n",
       "</style>\n",
       "<table border=\"1\" class=\"dataframe\">\n",
       "  <thead>\n",
       "    <tr style=\"text-align: right;\">\n",
       "      <th></th>\n",
       "      <th>tweet</th>\n",
       "      <th>labels</th>\n",
       "    </tr>\n",
       "  </thead>\n",
       "  <tbody>\n",
       "    <tr>\n",
       "      <th>0</th>\n",
       "      <td>rt mayasolov woman shouldnt complain clean ho...</td>\n",
       "      <td>No Hate and Offensive</td>\n",
       "    </tr>\n",
       "    <tr>\n",
       "      <th>1</th>\n",
       "      <td>rt  boy dat coldtyga dwn bad cuffin dat hoe  ...</td>\n",
       "      <td>Offensive Language</td>\n",
       "    </tr>\n",
       "    <tr>\n",
       "      <th>2</th>\n",
       "      <td>rt urkindofbrand dawg rt  ever fuck bitch sta...</td>\n",
       "      <td>Offensive Language</td>\n",
       "    </tr>\n",
       "    <tr>\n",
       "      <th>3</th>\n",
       "      <td>rt cganderson vivabas look like tranni</td>\n",
       "      <td>Offensive Language</td>\n",
       "    </tr>\n",
       "    <tr>\n",
       "      <th>4</th>\n",
       "      <td>rt shenikarobert shit hear might true might f...</td>\n",
       "      <td>Offensive Language</td>\n",
       "    </tr>\n",
       "  </tbody>\n",
       "</table>\n",
       "</div>"
      ],
      "text/plain": [
       "                                               tweet                 labels\n",
       "0   rt mayasolov woman shouldnt complain clean ho...  No Hate and Offensive\n",
       "1   rt  boy dat coldtyga dwn bad cuffin dat hoe  ...     Offensive Language\n",
       "2   rt urkindofbrand dawg rt  ever fuck bitch sta...     Offensive Language\n",
       "3             rt cganderson vivabas look like tranni     Offensive Language\n",
       "4   rt shenikarobert shit hear might true might f...     Offensive Language"
      ]
     },
     "execution_count": 7,
     "metadata": {},
     "output_type": "execute_result"
    }
   ],
   "source": [
    "data.head()"
   ]
  },
  {
   "cell_type": "markdown",
   "id": "a30f8037",
   "metadata": {},
   "source": [
    "### EDA\n",
    "* Let's do some EDA on Filtered Data"
   ]
  },
  {
   "cell_type": "code",
   "execution_count": 8,
   "id": "aba1986e",
   "metadata": {},
   "outputs": [
    {
     "data": {
      "text/plain": [
       "Offensive Language       19190\n",
       "No Hate and Offensive     4163\n",
       "Hate Speech               1430\n",
       "Name: labels, dtype: int64"
      ]
     },
     "execution_count": 8,
     "metadata": {},
     "output_type": "execute_result"
    }
   ],
   "source": [
    "data.labels.value_counts()"
   ]
  },
  {
   "cell_type": "markdown",
   "id": "7bebf800",
   "metadata": {},
   "source": [
    "* As we have 3 classes in our Dataset.\n",
    "* So , here we are getting count of each class."
   ]
  },
  {
   "cell_type": "code",
   "execution_count": 9,
   "id": "2b20a296",
   "metadata": {},
   "outputs": [
    {
     "data": {
      "text/plain": [
       "array(['No Hate and Offensive', 'Offensive Language', 'Hate Speech'],\n",
       "      dtype=object)"
      ]
     },
     "execution_count": 9,
     "metadata": {},
     "output_type": "execute_result"
    }
   ],
   "source": [
    "data['labels'].unique()"
   ]
  },
  {
   "cell_type": "code",
   "execution_count": 10,
   "id": "28c0c58b",
   "metadata": {},
   "outputs": [
    {
     "data": {
      "text/plain": [
       "<AxesSubplot:xlabel='labels', ylabel='count'>"
      ]
     },
     "execution_count": 10,
     "metadata": {},
     "output_type": "execute_result"
    },
    {
     "data": {
      "image/png": "[encoded data removed]",
      "text/plain": [
       "<Figure size 720x360 with 1 Axes>"
      ]
     },
     "metadata": {
      "needs_background": "light"
     },
     "output_type": "display_data"
    }
   ],
   "source": [
    "import matplotlib.pyplot as plt\n",
    "import seaborn as sns\n",
    "\n",
    "plt.figure(figsize=(10,5))\n",
    "\n",
    "sns.countplot(x=data.labels)"
   ]
  },
  {
   "cell_type": "code",
   "execution_count": 11,
   "id": "4213550e",
   "metadata": {},
   "outputs": [
    {
     "name": "stdout",
     "output_type": "stream",
     "text": [
      "<class 'pandas.core.frame.DataFrame'>\n",
      "RangeIndex: 24783 entries, 0 to 24782\n",
      "Data columns (total 2 columns):\n",
      " #   Column  Non-Null Count  Dtype \n",
      "---  ------  --------------  ----- \n",
      " 0   tweet   24783 non-null  object\n",
      " 1   labels  24783 non-null  object\n",
      "dtypes: object(2)\n",
      "memory usage: 387.4+ KB\n"
     ]
    }
   ],
   "source": [
    "data.info()"
   ]
  },
  {
   "cell_type": "markdown",
   "id": "11a1fa40",
   "metadata": {},
   "source": [
    "* Lets find amount of Percentage of each class in our Dataset."
   ]
  },
  {
   "cell_type": "code",
   "execution_count": 12,
   "id": "c94fe2df",
   "metadata": {},
   "outputs": [
    {
     "name": "stdout",
     "output_type": "stream",
     "text": [
      "77.43211072105879\n"
     ]
    }
   ],
   "source": [
    "Offensive_Language = (19190/24783)*100\n",
    "\n",
    "print(Offensive_Language)"
   ]
  },
  {
   "cell_type": "code",
   "execution_count": 13,
   "id": "8ba05470",
   "metadata": {},
   "outputs": [
    {
     "name": "stdout",
     "output_type": "stream",
     "text": [
      "16.797804946939436\n"
     ]
    }
   ],
   "source": [
    "No_Hate_and_Offensive = (4163/24783)*100\n",
    "\n",
    "print(No_Hate_and_Offensive)"
   ]
  },
  {
   "cell_type": "code",
   "execution_count": 14,
   "id": "e7119edf",
   "metadata": {},
   "outputs": [
    {
     "name": "stdout",
     "output_type": "stream",
     "text": [
      "5.770084332001776\n"
     ]
    }
   ],
   "source": [
    "Hate_Speech = (1430/24783)*100\n",
    "\n",
    "print(Hate_Speech)"
   ]
  },
  {
   "cell_type": "markdown",
   "id": "31e827f6",
   "metadata": {},
   "source": [
    "### Now let’s split the dataset into training and test sets and train a machine learning model for the task of hate speech detection:"
   ]
  },
  {
   "cell_type": "code",
   "execution_count": 15,
   "id": "dc8a87c6",
   "metadata": {},
   "outputs": [],
   "source": [
    "x = np.array(data[\"tweet\"])     # Independent Variable\n",
    "\n",
    "y = np.array(data[\"labels\"])    # Dependent Variable"
   ]
  },
  {
   "cell_type": "code",
   "execution_count": 16,
   "id": "1f00ae4f",
   "metadata": {},
   "outputs": [
    {
     "data": {
      "text/plain": [
       "DecisionTreeClassifier()"
      ]
     },
     "execution_count": 16,
     "metadata": {},
     "output_type": "execute_result"
    }
   ],
   "source": [
    "cv = CountVectorizer()\n",
    "\n",
    "X = cv.fit_transform(x) # Fit the Data\n",
    "\n",
    "X_train, X_test, y_train, y_test = train_test_split(X, y, test_size=0.33, random_state=42)\n",
    "\n",
    "clf = DecisionTreeClassifier()\n",
    "\n",
    "clf.fit(X_train,y_train)"
   ]
  },
  {
   "cell_type": "markdown",
   "id": "5a08ddf4",
   "metadata": {},
   "source": [
    "* Here I have used Decision Tree Classifier algorithm technique"
   ]
  },
  {
   "cell_type": "code",
   "execution_count": 17,
   "id": "ebd9f109",
   "metadata": {},
   "outputs": [
    {
     "data": {
      "text/plain": [
       "0.8759016994742633"
      ]
     },
     "execution_count": 17,
     "metadata": {},
     "output_type": "execute_result"
    }
   ],
   "source": [
    "# accuracy of our classification tree\n",
    "\n",
    "clf.score(X_test,y_test)"
   ]
  },
  {
   "cell_type": "code",
   "execution_count": 18,
   "id": "5c6a3a46",
   "metadata": {},
   "outputs": [
    {
     "name": "stdout",
     "output_type": "stream",
     "text": [
      "Training set score: 0.9996\n",
      "Test set score: 0.8759\n"
     ]
    }
   ],
   "source": [
    "# print the scores on training and test set\n",
    "\n",
    "print('Training set score: {:.4f}'.format(clf.score(X_train, y_train)))\n",
    "\n",
    "print('Test set score: {:.4f}'.format(clf.score(X_test, y_test)))"
   ]
  },
  {
   "cell_type": "code",
   "execution_count": 19,
   "id": "c9ba9b20",
   "metadata": {},
   "outputs": [
    {
     "name": "stdout",
     "output_type": "stream",
     "text": [
      "['Hate Speech']\n"
     ]
    }
   ],
   "source": [
    "sample = \"Let's unite and kill all the people who are protesting against the government\"\n",
    "\n",
    "data = cv.transform([sample]).toarray()\n",
    "\n",
    "print(clf.predict(data))"
   ]
  },
  {
   "cell_type": "markdown",
   "id": "61b6da4c",
   "metadata": {},
   "source": [
    "* Here I used Random Forest Algorithm"
   ]
  },
  {
   "cell_type": "code",
   "execution_count": 20,
   "id": "1f30af39",
   "metadata": {},
   "outputs": [],
   "source": [
    "classifier = RandomForestClassifier(random_state=6)"
   ]
  },
  {
   "cell_type": "code",
   "execution_count": 21,
   "id": "36abfa46",
   "metadata": {},
   "outputs": [
    {
     "data": {
      "text/plain": [
       "RandomForestClassifier(random_state=6)"
      ]
     },
     "execution_count": 21,
     "metadata": {},
     "output_type": "execute_result"
    }
   ],
   "source": [
    "classifier.fit(X_train,y_train)"
   ]
  },
  {
   "cell_type": "code",
   "execution_count": 22,
   "id": "956342ce",
   "metadata": {},
   "outputs": [
    {
     "name": "stdout",
     "output_type": "stream",
     "text": [
      "Training set score: 0.9996\n",
      "Test set score: 0.8922\n"
     ]
    }
   ],
   "source": [
    "# print the scores on training and test set\n",
    "\n",
    "print('Training set score: {:.4f}'.format(classifier.score(X_train, y_train)))\n",
    "\n",
    "print('Test set score: {:.4f}'.format(classifier.score(X_test, y_test)))"
   ]
  },
  {
   "cell_type": "code",
   "execution_count": 23,
   "id": "b8bbc4e2",
   "metadata": {},
   "outputs": [
    {
     "name": "stdout",
     "output_type": "stream",
     "text": [
      "['Offensive Language']\n"
     ]
    }
   ],
   "source": [
    "sample = \"Let's unite and kill all the people who are protesting against the government\"\n",
    "\n",
    "data = cv.transform([sample]).toarray()\n",
    "\n",
    "print(classifier.predict(data))"
   ]
  },
  {
   "cell_type": "markdown",
   "id": "df1c86a8",
   "metadata": {},
   "source": [
    "### Now Lets Save Our Model for Deployment"
   ]
  },
  {
   "cell_type": "code",
   "execution_count": 26,
   "id": "41a946ae",
   "metadata": {},
   "outputs": [],
   "source": [
    "import pickle as pk     # to save the model"
   ]
  },
  {
   "cell_type": "code",
   "execution_count": 27,
   "id": "fe8bbbf8",
   "metadata": {},
   "outputs": [],
   "source": [
    "filename = \"hate_speech.pk\"\n",
    "\n",
    "pk.dump(clf,open(filename,\"wb\"))      # Here, I have used Decision Tree Classifier algorithm as a Final Model."
   ]
  },
  {
   "cell_type": "code",
   "execution_count": null,
   "id": "55bfce49",
   "metadata": {},
   "outputs": [],
   "source": []
  }
 ],
 "metadata": {
  "kernelspec": {
   "display_name": "Python 3 (ipykernel)",
   "language": "python",
   "name": "python3"
  },
  "language_info": {
   "codemirror_mode": {
    "name": "ipython",
    "version": 3
   },
   "file_extension": ".py",
   "mimetype": "text/x-python",
   "name": "python",
   "nbconvert_exporter": "python",
   "pygments_lexer": "ipython3",
   "version": "3.8.12"
  }
 },
 "nbformat": 4,
 "nbformat_minor": 5
}
